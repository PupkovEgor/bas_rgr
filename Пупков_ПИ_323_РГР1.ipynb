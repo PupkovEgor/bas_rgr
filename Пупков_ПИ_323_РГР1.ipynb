{
  "nbformat": 4,
  "nbformat_minor": 0,
  "metadata": {
    "colab": {
      "name": "Пупков ПИ-323 РГР1.ipynb",
      "provenance": [],
      "collapsed_sections": []
    },
    "kernelspec": {
      "name": "python3",
      "display_name": "Python 3"
    },
    "language_info": {
      "name": "python"
    }
  },
  "cells": [
    {
      "cell_type": "markdown",
      "source": [
        "# **Греческий алфавит**\n",
        "Заглавная | Строчная | Название\n",
        "-- | -- | --\n",
        "𝛢 | $\\alpha$ | альфа \n",
        "𝛣 | $\\beta$ | бета\n",
        "𝛤 | $\\gamma$ | гамма\n",
        "𝝙 | $\\delta$ | дельта\n",
        "𝜠 | $\\epsilon$ | эпсилон\n",
        "𝛧 | $\\zeta$ | дзета\n",
        "𝛨 | $\\eta$ | эта\n",
        "𝛩 | $\\theta$ | тета\n",
        "𝛪 | $\\iota$ | йота\n",
        "𝛫 | $\\kappa$ | каппа\n",
        "𝛬 | $\\lambda$ | лямбда\n",
        "𝛭 | $\\mu$ | мю\n",
        "𝛮 | $\\nu$ | ню\n",
        "𝛯 | $\\xi$ | кси\n",
        "𝛱 | $\\pi$ | пи\n",
        "𝛲 | $\\rho$ | ро\n",
        "𝛴 | $\\sigma$ | сигма\n",
        "𝛵 | $\\tau$ | тау\n",
        "𝛶 | $\\upsilon$ | ипсилон\n",
        "𝛷 | $\\phi$ | фи\n",
        "𝛸 | $\\chi$ | чи\n",
        "𝛹 | $\\psi$ | пси\n",
        "𝛺 | $\\omega$ | омега"
      ],
      "metadata": {
        "id": "9Gq4djT-lDfD"
      }
    },
    {
      "cell_type": "markdown",
      "source": [
        "# **Формула нормального распределения**\n",
        "$${\\displaystyle f(x)={\\frac{1}{\\sigma{\\sqrt{2\\pi}}}e^{-{\\frac{1}{2}}\\left({\\frac{(x-\\mu)}{\\sigma }}\\right)^{2}}}}$$"
      ],
      "metadata": {
        "id": "tTRq-IZLzccM"
      }
    }
  ]
}